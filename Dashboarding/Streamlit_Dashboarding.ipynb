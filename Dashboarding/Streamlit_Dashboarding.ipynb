{
 "cells": [
  {
   "cell_type": "code",
   "execution_count": 2,
   "metadata": {},
   "outputs": [],
   "source": [
    "import streamlit as st \n",
    "from PIL import Image "
   ]
  },
  {
   "cell_type": "code",
   "execution_count": 3,
   "metadata": {},
   "outputs": [],
   "source": [
    "import matplotlib.pyplot as plt \n",
    "import matplotlib\n",
    "#matplotlib.use(\"Agg\")\n",
    "import seaborn as sns\n",
    "import pandas as pd \n",
    "import numpy as np"
   ]
  },
  {
   "cell_type": "code",
   "execution_count": 4,
   "metadata": {},
   "outputs": [],
   "source": [
    "import pandas as pd\n",
    "df1=pd.read_csv('df_Apple.csv')\n",
    "df2=pd.read_csv('df_axalta.csv')\n",
    "df3=pd.read_csv('df_Capgemini.csv')\n",
    "df4=pd.read_csv('df_michelin.csv')\n",
    "df5=pd.read_csv('df_NIO.csv')\n",
    "df6=pd.read_csv('df_PWCO.csv')\n",
    "df7=pd.read_csv('df_TARKETT.csv')\n",
    "df8=pd.read_csv('df_XPeng.csv')\n",
    "dfs=pd.concat([df1,df2,df3,df4,df5,df6,df7,df8], ignore_index=True)\n",
    "df_tag=pd.read_csv('df_lab_IFRS_full_2021.csv')\n",
    "#FIND INTERSECTION OF 2 LISTS\n",
    "dfs.rename(columns={'Breakdown':'elt'}, inplace=True)\n",
    "L1=list(dfs['elt'].unique())\n",
    "L2=list(df_tag['elt'])"
   ]
  },
  {
   "cell_type": "code",
   "execution_count": 7,
   "metadata": {},
   "outputs": [],
   "source": [
    "dfs.to_csv('dfs.csv')"
   ]
  },
  {
   "cell_type": "code",
   "execution_count": 8,
   "metadata": {},
   "outputs": [],
   "source": [
    "data=(\"dfs.csv\")"
   ]
  },
  {
   "cell_type": "code",
   "execution_count": 11,
   "metadata": {},
   "outputs": [
    {
     "data": {
      "text/plain": [
       "DeltaGenerator(_root_container=0, _provided_cursor=None, _parent=None, _block_type=None, _form_data=None)"
      ]
     },
     "execution_count": 11,
     "metadata": {},
     "output_type": "execute_result"
    }
   ],
   "source": [
    "st.markdown(\"# Self Exploratory Visualization on palmerpenguins\")\n",
    "st.markdown(\"Explore the dataset to know more about palmerpenguins\")\n",
    "img=Image.open('fin.jpg')\n",
    "st.image(img,width=100)\n",
    "st.markdown(\"**Penguins** are some of the most recognizable and beloved birds in the world and even have their own holiday: **World Penguin Day is celebrated every year on April 25**. Penguins are also amazing birds because of their physical adaptations to survive in unusual climates and to live mostly at sea. Penguins propel themselves through water by flapping their flippers.  Bills tend to be long and thin in species that are primarily fish eaters, and shorter and stouter in those that mainly eat krill\")\n",
    "st.markdown(\"The data presented are of 3 different species of penguins - **Adelie, Chinstrap, and Gentoo,** collected from 3 islands in the **Palmer Archipelago, Antarctica.**\")"
   ]
  },
  {
   "cell_type": "code",
   "execution_count": null,
   "metadata": {},
   "outputs": [],
   "source": []
  }
 ],
 "metadata": {
  "kernelspec": {
   "display_name": "Python 3",
   "language": "python",
   "name": "python3"
  },
  "language_info": {
   "codemirror_mode": {
    "name": "ipython",
    "version": 3
   },
   "file_extension": ".py",
   "mimetype": "text/x-python",
   "name": "python",
   "nbconvert_exporter": "python",
   "pygments_lexer": "ipython3",
   "version": "3.8.3"
  }
 },
 "nbformat": 4,
 "nbformat_minor": 4
}
