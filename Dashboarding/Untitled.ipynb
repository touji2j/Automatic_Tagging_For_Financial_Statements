{
 "cells": [
  {
   "cell_type": "code",
   "execution_count": 142,
   "metadata": {},
   "outputs": [],
   "source": [
    "import requests\n",
    "from bs4 import BeautifulSoup as bs\n",
    "import pandas as pd\n",
    "from bs4 import BeautifulSoup\n",
    "import numpy as np"
   ]
  },
  {
   "cell_type": "code",
   "execution_count": 143,
   "metadata": {},
   "outputs": [],
   "source": [
    "def remove_prefix(text, prefix):\n",
    "    if text.startswith(prefix):\n",
    "        return text[len(prefix):]\n",
    "    return text  # or whatever\n",
    "def removesuffix(self: str, suffix: str, /) -> str:\n",
    "    # suffix='' should not call self[:-0].\n",
    "    if suffix and self.endswith(suffix):\n",
    "        return self[:-len(suffix)]\n",
    "    else:\n",
    "        return self[:]\n"
   ]
  },
  {
   "cell_type": "code",
   "execution_count": 144,
   "metadata": {},
   "outputs": [],
   "source": [
    "HTMLFileToBeOpened = open(\"lab_full_ifrs-en_2021-03-24.xml\", \"r\")\n",
    "  \n",
    "# Reading the file and storing in a variable\n",
    "contents = HTMLFileToBeOpened.read()\n"
   ]
  },
  {
   "cell_type": "code",
   "execution_count": 145,
   "metadata": {},
   "outputs": [],
   "source": [
    "beautifulSoupText = BeautifulSoup(contents, 'lxml')\n",
    "# g=beautifulSoupText.find_all('ix:nonfraction', contextref=True, limit=56)"
   ]
  },
  {
   "cell_type": "code",
   "execution_count": 146,
   "metadata": {},
   "outputs": [],
   "source": [
    "g=beautifulSoupText.find_all(['link:label'])"
   ]
  },
  {
   "cell_type": "code",
   "execution_count": 147,
   "metadata": {},
   "outputs": [],
   "source": [
    "L1=[]\n",
    "for i in range(len(g)):\n",
    "    L1.append(g[i].string)\n",
    "\n",
    "L2=[]\n",
    "for i in range(len(g)):\n",
    "    L2.append(g[i].get('id'))\n"
   ]
  },
  {
   "cell_type": "code",
   "execution_count": 148,
   "metadata": {},
   "outputs": [
    {
     "name": "stdout",
     "output_type": "stream",
     "text": [
      "(5876, 2)\n"
     ]
    }
   ],
   "source": [
    "df_tag= pd.DataFrame({'elt':L1,'IFRS_tag':L2})\n",
    "print(df_tag.shape)"
   ]
  },
  {
   "cell_type": "code",
   "execution_count": 149,
   "metadata": {},
   "outputs": [
    {
     "data": {
      "text/html": [
       "<div>\n",
       "<style scoped>\n",
       "    .dataframe tbody tr th:only-of-type {\n",
       "        vertical-align: middle;\n",
       "    }\n",
       "\n",
       "    .dataframe tbody tr th {\n",
       "        vertical-align: top;\n",
       "    }\n",
       "\n",
       "    .dataframe thead th {\n",
       "        text-align: right;\n",
       "    }\n",
       "</style>\n",
       "<table border=\"1\" class=\"dataframe\">\n",
       "  <thead>\n",
       "    <tr style=\"text-align: right;\">\n",
       "      <th></th>\n",
       "      <th>elt</th>\n",
       "      <th>IFRS_tag</th>\n",
       "    </tr>\n",
       "  </thead>\n",
       "  <tbody>\n",
       "    <tr>\n",
       "      <th>0</th>\n",
       "      <td>Accounting profit</td>\n",
       "      <td>ifrs-full_AccountingProfit_label</td>\n",
       "    </tr>\n",
       "    <tr>\n",
       "      <th>1</th>\n",
       "      <td>Accumulated increase (decrease) in fair value ...</td>\n",
       "      <td>ifrs-full_AccumulatedChangesInFairValueOfFinan...</td>\n",
       "    </tr>\n",
       "    <tr>\n",
       "      <th>2</th>\n",
       "      <td>Accumulated increase (decrease) in fair value ...</td>\n",
       "      <td>ifrs-full_AccumulatedChangesInFairValueOfLoanO...</td>\n",
       "    </tr>\n",
       "    <tr>\n",
       "      <th>3</th>\n",
       "      <td>Acquisitions through business combinations, bi...</td>\n",
       "      <td>ifrs-full_AcquisitionsThroughBusinessCombinati...</td>\n",
       "    </tr>\n",
       "    <tr>\n",
       "      <th>4</th>\n",
       "      <td>Acquisitions through business combinations, in...</td>\n",
       "      <td>ifrs-full_AcquisitionsThroughBusinessCombinati...</td>\n",
       "    </tr>\n",
       "  </tbody>\n",
       "</table>\n",
       "</div>"
      ],
      "text/plain": [
       "                                                 elt  \\\n",
       "0                                  Accounting profit   \n",
       "1  Accumulated increase (decrease) in fair value ...   \n",
       "2  Accumulated increase (decrease) in fair value ...   \n",
       "3  Acquisitions through business combinations, bi...   \n",
       "4  Acquisitions through business combinations, in...   \n",
       "\n",
       "                                            IFRS_tag  \n",
       "0                   ifrs-full_AccountingProfit_label  \n",
       "1  ifrs-full_AccumulatedChangesInFairValueOfFinan...  \n",
       "2  ifrs-full_AccumulatedChangesInFairValueOfLoanO...  \n",
       "3  ifrs-full_AcquisitionsThroughBusinessCombinati...  \n",
       "4  ifrs-full_AcquisitionsThroughBusinessCombinati...  "
      ]
     },
     "execution_count": 149,
     "metadata": {},
     "output_type": "execute_result"
    }
   ],
   "source": [
    "df_tag.head()"
   ]
  },
  {
   "cell_type": "code",
   "execution_count": 150,
   "metadata": {},
   "outputs": [
    {
     "name": "stdout",
     "output_type": "stream",
     "text": [
      "5876\n"
     ]
    }
   ],
   "source": [
    "print(len(df_tag['IFRS_tag'].unique()))"
   ]
  },
  {
   "cell_type": "markdown",
   "metadata": {},
   "source": [
    "#### Check if a fin element contains a fin keyword :"
   ]
  },
  {
   "cell_type": "code",
   "execution_count": 175,
   "metadata": {},
   "outputs": [],
   "source": [
    "s=df_tag['IFRS_tag']"
   ]
  },
  {
   "cell_type": "code",
   "execution_count": 180,
   "metadata": {},
   "outputs": [
    {
     "data": {
      "text/plain": [
       "2273    ifrs-full_CurrentDerivativeFinancialAssets_label\n",
       "Name: IFRS_tag, dtype: object"
      ]
     },
     "execution_count": 180,
     "metadata": {},
     "output_type": "execute_result"
    }
   ],
   "source": [
    "searchfor = ['CurrentDerivativeFinancialAssets']\n",
    "s[s.str.contains('|'.join(searchfor))]"
   ]
  },
  {
   "cell_type": "code",
   "execution_count": 153,
   "metadata": {},
   "outputs": [],
   "source": [
    "df_tag.to_csv ('df_lab_IFRS_full_2021.csv', index = False, header=True)"
   ]
  },
  {
   "cell_type": "code",
   "execution_count": 154,
   "metadata": {},
   "outputs": [
    {
     "data": {
      "text/plain": [
       "64"
      ]
     },
     "execution_count": 154,
     "metadata": {},
     "output_type": "execute_result"
    }
   ],
   "source": [
    "import sys\n",
    "sys.getsizeof(searchfor)"
   ]
  },
  {
   "cell_type": "code",
   "execution_count": 156,
   "metadata": {},
   "outputs": [],
   "source": [
    "import re    \n",
    "# tokens = re.findall('\\s+', str(searchfor))\n",
    "# c=0\n",
    "# for i in range(0, len(tokens)) :\n",
    "#     c=c+1\n",
    "# L.append(c)"
   ]
  },
  {
   "cell_type": "code",
   "execution_count": 159,
   "metadata": {},
   "outputs": [],
   "source": [
    "L=[]\n",
    "for i in range(len(df_tag)):\n",
    "    tokens = re.findall('\\s+', df_tag['elt'][i])\n",
    "    c=0\n",
    "    for i in range(0, len(tokens)) :\n",
    "            c=c+1\n",
    "    L.append(c)"
   ]
  },
  {
   "cell_type": "code",
   "execution_count": null,
   "metadata": {},
   "outputs": [],
   "source": []
  },
  {
   "cell_type": "code",
   "execution_count": null,
   "metadata": {},
   "outputs": [],
   "source": []
  },
  {
   "cell_type": "code",
   "execution_count": 161,
   "metadata": {},
   "outputs": [],
   "source": [
    "df_tag['num_spaces']=L"
   ]
  },
  {
   "cell_type": "code",
   "execution_count": 165,
   "metadata": {},
   "outputs": [],
   "source": [
    "df_abrv=df_tag[df_tag['num_spaces']<=1]"
   ]
  },
  {
   "cell_type": "code",
   "execution_count": 136,
   "metadata": {},
   "outputs": [
    {
     "data": {
      "text/plain": [
       "405                                              Goodwill\n",
       "851     Goodwill expected to be deductible for tax pur...\n",
       "868     Goodwill derecognised without having previousl...\n",
       "979                                     Goodwill [member]\n",
       "4615           Goodwill recognised as of acquisition date\n",
       "5299    Goodwill derecognised without having previousl...\n",
       "5455                      Goodwill at beginning of period\n",
       "5497                            Goodwill at end of period\n",
       "Name: elt, dtype: object"
      ]
     },
     "execution_count": 136,
     "metadata": {},
     "output_type": "execute_result"
    }
   ],
   "source": [
    "searchfor = ['Goodwill']\n",
    "s[s.str.contains('|'.join(searchfor))]"
   ]
  },
  {
   "cell_type": "code",
   "execution_count": 137,
   "metadata": {},
   "outputs": [
    {
     "data": {
      "text/html": [
       "<div>\n",
       "<style scoped>\n",
       "    .dataframe tbody tr th:only-of-type {\n",
       "        vertical-align: middle;\n",
       "    }\n",
       "\n",
       "    .dataframe tbody tr th {\n",
       "        vertical-align: top;\n",
       "    }\n",
       "\n",
       "    .dataframe thead th {\n",
       "        text-align: right;\n",
       "    }\n",
       "</style>\n",
       "<table border=\"1\" class=\"dataframe\">\n",
       "  <thead>\n",
       "    <tr style=\"text-align: right;\">\n",
       "      <th></th>\n",
       "      <th>elt</th>\n",
       "      <th>IFRS_tag</th>\n",
       "      <th>num_spaces</th>\n",
       "    </tr>\n",
       "  </thead>\n",
       "  <tbody>\n",
       "    <tr>\n",
       "      <th>405</th>\n",
       "      <td>Goodwill</td>\n",
       "      <td>ifrs-full_Goodwill_label</td>\n",
       "      <td>3150</td>\n",
       "    </tr>\n",
       "  </tbody>\n",
       "</table>\n",
       "</div>"
      ],
      "text/plain": [
       "          elt                  IFRS_tag  num_spaces\n",
       "405  Goodwill  ifrs-full_Goodwill_label        3150"
      ]
     },
     "execution_count": 137,
     "metadata": {},
     "output_type": "execute_result"
    }
   ],
   "source": [
    "df_tag[df_tag['elt']=='Goodwill']"
   ]
  },
  {
   "cell_type": "code",
   "execution_count": 166,
   "metadata": {},
   "outputs": [
    {
     "data": {
      "text/html": [
       "<div>\n",
       "<style scoped>\n",
       "    .dataframe tbody tr th:only-of-type {\n",
       "        vertical-align: middle;\n",
       "    }\n",
       "\n",
       "    .dataframe tbody tr th {\n",
       "        vertical-align: top;\n",
       "    }\n",
       "\n",
       "    .dataframe thead th {\n",
       "        text-align: right;\n",
       "    }\n",
       "</style>\n",
       "<table border=\"1\" class=\"dataframe\">\n",
       "  <thead>\n",
       "    <tr style=\"text-align: right;\">\n",
       "      <th></th>\n",
       "      <th>elt</th>\n",
       "      <th>IFRS_tag</th>\n",
       "      <th>num_spaces</th>\n",
       "    </tr>\n",
       "  </thead>\n",
       "  <tbody>\n",
       "    <tr>\n",
       "      <th>0</th>\n",
       "      <td>Accounting profit</td>\n",
       "      <td>ifrs-full_AccountingProfit_label</td>\n",
       "      <td>1</td>\n",
       "    </tr>\n",
       "    <tr>\n",
       "      <th>35</th>\n",
       "      <td>Administrative expenses</td>\n",
       "      <td>ifrs-full_AdministrativeExpense_label</td>\n",
       "      <td>1</td>\n",
       "    </tr>\n",
       "    <tr>\n",
       "      <th>46</th>\n",
       "      <td>Assets</td>\n",
       "      <td>ifrs-full_Assets_label</td>\n",
       "      <td>0</td>\n",
       "    </tr>\n",
       "    <tr>\n",
       "      <th>47</th>\n",
       "      <td>Assets [abstract]</td>\n",
       "      <td>ifrs-full_AssetsAbstract_label</td>\n",
       "      <td>1</td>\n",
       "    </tr>\n",
       "    <tr>\n",
       "      <th>52</th>\n",
       "      <td>Bank overdrafts</td>\n",
       "      <td>ifrs-full_BankOverdraftsClassifiedAsCashEquiva...</td>\n",
       "      <td>1</td>\n",
       "    </tr>\n",
       "  </tbody>\n",
       "</table>\n",
       "</div>"
      ],
      "text/plain": [
       "                        elt  \\\n",
       "0         Accounting profit   \n",
       "35  Administrative expenses   \n",
       "46                   Assets   \n",
       "47        Assets [abstract]   \n",
       "52          Bank overdrafts   \n",
       "\n",
       "                                             IFRS_tag  num_spaces  \n",
       "0                    ifrs-full_AccountingProfit_label           1  \n",
       "35              ifrs-full_AdministrativeExpense_label           1  \n",
       "46                             ifrs-full_Assets_label           0  \n",
       "47                     ifrs-full_AssetsAbstract_label           1  \n",
       "52  ifrs-full_BankOverdraftsClassifiedAsCashEquiva...           1  "
      ]
     },
     "execution_count": 166,
     "metadata": {},
     "output_type": "execute_result"
    }
   ],
   "source": [
    "df_abrv.head()"
   ]
  },
  {
   "cell_type": "code",
   "execution_count": 170,
   "metadata": {},
   "outputs": [],
   "source": [
    "df_abrv=df_abrv.sort_values('elt', ascending=True)\n"
   ]
  },
  {
   "cell_type": "code",
   "execution_count": 174,
   "metadata": {},
   "outputs": [
    {
     "data": {
      "text/html": [
       "<div>\n",
       "<style scoped>\n",
       "    .dataframe tbody tr th:only-of-type {\n",
       "        vertical-align: middle;\n",
       "    }\n",
       "\n",
       "    .dataframe tbody tr th {\n",
       "        vertical-align: top;\n",
       "    }\n",
       "\n",
       "    .dataframe thead th {\n",
       "        text-align: right;\n",
       "    }\n",
       "</style>\n",
       "<table border=\"1\" class=\"dataframe\">\n",
       "  <thead>\n",
       "    <tr style=\"text-align: right;\">\n",
       "      <th></th>\n",
       "      <th>elt</th>\n",
       "      <th>IFRS_tag</th>\n",
       "      <th>num_spaces</th>\n",
       "    </tr>\n",
       "  </thead>\n",
       "  <tbody>\n",
       "    <tr>\n",
       "      <th>1437</th>\n",
       "      <td>Trade receivables</td>\n",
       "      <td>ifrs-full_TradeReceivables_label</td>\n",
       "      <td>1</td>\n",
       "    </tr>\n",
       "  </tbody>\n",
       "</table>\n",
       "</div>"
      ],
      "text/plain": [
       "                    elt                          IFRS_tag  num_spaces\n",
       "1437  Trade receivables  ifrs-full_TradeReceivables_label           1"
      ]
     },
     "execution_count": 174,
     "metadata": {},
     "output_type": "execute_result"
    }
   ],
   "source": [
    "df_abrv[df_abrv['elt']=='Trade receivables']"
   ]
  },
  {
   "cell_type": "code",
   "execution_count": null,
   "metadata": {},
   "outputs": [],
   "source": []
  }
 ],
 "metadata": {
  "kernelspec": {
   "display_name": "Python 3",
   "language": "python",
   "name": "python3"
  },
  "language_info": {
   "codemirror_mode": {
    "name": "ipython",
    "version": 3
   },
   "file_extension": ".py",
   "mimetype": "text/x-python",
   "name": "python",
   "nbconvert_exporter": "python",
   "pygments_lexer": "ipython3",
   "version": "3.8.3"
  }
 },
 "nbformat": 4,
 "nbformat_minor": 4
}
