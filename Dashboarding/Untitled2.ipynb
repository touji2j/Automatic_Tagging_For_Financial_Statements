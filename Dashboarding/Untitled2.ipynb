{
 "cells": [
  {
   "cell_type": "code",
   "execution_count": null,
   "metadata": {},
   "outputs": [],
   "source": []
  },
  {
   "cell_type": "code",
   "execution_count": 4,
   "metadata": {},
   "outputs": [],
   "source": [
    "Stage 2A/SummerInternship/version 3/df_lab_IFRS_full_2021.csv"
   ]
  },
  {
   "cell_type": "code",
   "execution_count": 5,
   "metadata": {},
   "outputs": [
    {
     "data": {
      "text/plain": [
       "['ifrs-full_RevenueFromContractsWithCustomers_label',\n",
       " 'ifrs-full_CirculationRevenue_label',\n",
       " 'ifrs-full_Revenue_label',\n",
       " 'ifrs-full_RevenueFromSaleOfElectricity_label',\n",
       " 'ifrs-full_NoncontrollingInterests_label',\n",
       " 'ifrs-full_DisclosureOfRevenueFromContractsWithCustomersExplanatory_label',\n",
       " 'ifrs-full_RevenueFromRenderingOfInternetAndDataServices_label',\n",
       " 'ifrs-full_RevenueFromRenderingOfTelecommunicationServices_label',\n",
       " 'ifrs-full_NonsubscriptionCirculationRevenue_label',\n",
       " 'ifrs-full_RevenueFromRenderingOfTransportServices_label']"
      ]
     },
     "execution_count": 5,
     "metadata": {},
     "output_type": "execute_result"
    }
   ],
   "source": [
    "return_label('revenue')"
   ]
  },
  {
   "cell_type": "code",
   "execution_count": null,
   "metadata": {},
   "outputs": [],
   "source": []
  }
 ],
 "metadata": {
  "kernelspec": {
   "display_name": "Python 3",
   "language": "python",
   "name": "python3"
  },
  "language_info": {
   "codemirror_mode": {
    "name": "ipython",
    "version": 3
   },
   "file_extension": ".py",
   "mimetype": "text/x-python",
   "name": "python",
   "nbconvert_exporter": "python",
   "pygments_lexer": "ipython3",
   "version": "3.8.3"
  }
 },
 "nbformat": 4,
 "nbformat_minor": 4
}
