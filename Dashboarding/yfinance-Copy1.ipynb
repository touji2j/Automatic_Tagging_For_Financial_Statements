{
 "cells": [
  {
   "cell_type": "code",
   "execution_count": 74,
   "metadata": {},
   "outputs": [],
   "source": [
    "import yfinance as yf\n",
    "import pandas as pd\n",
    "from bs4 import BeautifulSoup\n",
    "import re\n",
    "from selenium import webdriver\n",
    "import chromedriver_binary\n",
    "import string\n",
    "pd.options.display.float_format = '{:.0f}'.format"
   ]
  },
  {
   "cell_type": "markdown",
   "metadata": {},
   "source": [
    "#### 1. Choose company ✨"
   ]
  },
  {
   "cell_type": "code",
   "execution_count": 96,
   "metadata": {},
   "outputs": [],
   "source": [
    "is_link = 'https://finance.yahoo.com/quote/NIO/financials?p=NIO'"
   ]
  },
  {
   "cell_type": "code",
   "execution_count": 97,
   "metadata": {},
   "outputs": [],
   "source": [
    "driver = webdriver.Chrome(executable_path=r'D:/chromedriver_win32/chromedriver.exe')\n",
    "driver.get(is_link)\n",
    "html = driver.execute_script('return document.body.innerHTML;')\n",
    "soup = BeautifulSoup(html,'lxml')\n",
    "features = soup.find_all('div', class_='D(tbr)')\n",
    "headers = []\n",
    "temp_list = []\n",
    "label_list = []\n",
    "final = []\n",
    "index = 0\n",
    "#create headers\n",
    "for item in features[0].find_all('div', class_='D(ib)'):\n",
    "    headers.append(item.text)\n",
    "#statement contents\n",
    "while index <= len(features)-1:\n",
    "    #filter for each line of the statement\n",
    "    temp = features[index].find_all('div', class_='D(tbc)')\n",
    "    for line in temp:\n",
    "        #each item adding to a temporary list\n",
    "        temp_list.append(line.text)\n",
    "    #temp_list added to final list\n",
    "    final.append(temp_list)\n",
    "    #clear temp_list\n",
    "    temp_list = []\n",
    "    index+=1\n",
    "df = pd.DataFrame(final[1:])\n",
    "df.columns = headers"
   ]
  },
  {
   "cell_type": "markdown",
   "metadata": {},
   "source": [
    "#### 2. Personalize Data ✨"
   ]
  },
  {
   "cell_type": "code",
   "execution_count": null,
   "metadata": {},
   "outputs": [],
   "source": [
    "df['finStat']='income statement'\n",
    "df['group_name']='NIO Inc.'\n",
    "df['sector']='Consumer Cyclical'\n",
    "df.head(59)"
   ]
  },
  {
   "cell_type": "markdown",
   "metadata": {},
   "source": [
    "#### 3. Save Data ✨"
   ]
  },
  {
   "cell_type": "code",
   "execution_count": null,
   "metadata": {},
   "outputs": [],
   "source": [
    "df.to_csv ('df_NIO.csv', index = False, header=True)"
   ]
  },
  {
   "cell_type": "code",
   "execution_count": null,
   "metadata": {},
   "outputs": [],
   "source": []
  }
 ],
 "metadata": {
  "kernelspec": {
   "display_name": "Python 3",
   "language": "python",
   "name": "python3"
  },
  "language_info": {
   "codemirror_mode": {
    "name": "ipython",
    "version": 3
   },
   "file_extension": ".py",
   "mimetype": "text/x-python",
   "name": "python",
   "nbconvert_exporter": "python",
   "pygments_lexer": "ipython3",
   "version": "3.8.3"
  }
 },
 "nbformat": 4,
 "nbformat_minor": 4
}
